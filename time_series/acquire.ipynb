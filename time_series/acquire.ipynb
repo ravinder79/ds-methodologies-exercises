{
 "cells": [
  {
   "cell_type": "code",
   "execution_count": 1,
   "metadata": {},
   "outputs": [],
   "source": [
    "import pandas as pd\n",
    "import numpy as np\n",
    "import requests"
   ]
  },
  {
   "cell_type": "code",
   "execution_count": 2,
   "metadata": {},
   "outputs": [
    {
     "name": "stdout",
     "output_type": "stream",
     "text": [
      "{\"api\":\"/api/v1\",\"help\":\"/documentation\"}\n",
      "\n"
     ]
    }
   ],
   "source": [
    "base_url = 'https://python.zach.lol'\n",
    "print(requests.get(base_url).text)"
   ]
  },
  {
   "cell_type": "code",
   "execution_count": 12,
   "metadata": {},
   "outputs": [],
   "source": [
    "response = requests.get(base_url + '/documentation')"
   ]
  },
  {
   "cell_type": "code",
   "execution_count": 15,
   "metadata": {},
   "outputs": [
    {
     "name": "stdout",
     "output_type": "stream",
     "text": [
      "\n",
      "The API accepts GET requests for all endpoints, where endpoints are prefixed\n",
      "with\n",
      "\n",
      "    /api/{version}\n",
      "\n",
      "Where version is \"v1\"\n",
      "\n",
      "Valid endpoints:\n",
      "\n",
      "- /stores[/{store_id}]\n",
      "- /items[/{item_id}]\n",
      "- /sales[/{sale_id}]\n",
      "\n",
      "All endpoints accept a `page` parameter that can be used to navigate through\n",
      "the results.\n",
      "\n"
     ]
    }
   ],
   "source": [
    "print(response.json()['payload'])"
   ]
  },
  {
   "cell_type": "code",
   "execution_count": 33,
   "metadata": {},
   "outputs": [],
   "source": [
    "response = requests.get('https://python.zach.lol/api/v1/items')"
   ]
  },
  {
   "cell_type": "code",
   "execution_count": 34,
   "metadata": {},
   "outputs": [
    {
     "data": {
      "text/plain": [
       "dict_keys(['payload', 'status'])"
      ]
     },
     "execution_count": 34,
     "metadata": {},
     "output_type": "execute_result"
    }
   ],
   "source": [
    "response.json().keys()"
   ]
  },
  {
   "cell_type": "code",
   "execution_count": 36,
   "metadata": {},
   "outputs": [
    {
     "data": {
      "text/plain": [
       "dict_keys(['items', 'max_page', 'next_page', 'page', 'previous_page'])"
      ]
     },
     "execution_count": 36,
     "metadata": {},
     "output_type": "execute_result"
    }
   ],
   "source": [
    "response.json()['payload'].keys()"
   ]
  },
  {
   "cell_type": "code",
   "execution_count": 38,
   "metadata": {},
   "outputs": [
    {
     "data": {
      "text/plain": [
       "1"
      ]
     },
     "execution_count": 38,
     "metadata": {},
     "output_type": "execute_result"
    }
   ],
   "source": [
    "response.json()['payload']['page']"
   ]
  },
  {
   "cell_type": "code",
   "execution_count": 39,
   "metadata": {},
   "outputs": [
    {
     "data": {
      "text/plain": [
       "3"
      ]
     },
     "execution_count": 39,
     "metadata": {},
     "output_type": "execute_result"
    }
   ],
   "source": [
    "response.json()['payload']['max_page']"
   ]
  },
  {
   "cell_type": "code",
   "execution_count": 40,
   "metadata": {},
   "outputs": [
    {
     "data": {
      "text/plain": [
       "'/api/v1/items?page=2'"
      ]
     },
     "execution_count": 40,
     "metadata": {},
     "output_type": "execute_result"
    }
   ],
   "source": [
    "response.json()['payload']['next_page']"
   ]
  },
  {
   "cell_type": "code",
   "execution_count": 47,
   "metadata": {},
   "outputs": [],
   "source": [
    "data = response.json()"
   ]
  },
  {
   "cell_type": "code",
   "execution_count": 48,
   "metadata": {},
   "outputs": [
    {
     "data": {
      "text/plain": [
       "dict_keys(['payload', 'status'])"
      ]
     },
     "execution_count": 48,
     "metadata": {},
     "output_type": "execute_result"
    }
   ],
   "source": [
    "data.keys()"
   ]
  },
  {
   "cell_type": "code",
   "execution_count": 75,
   "metadata": {},
   "outputs": [
    {
     "data": {
      "text/plain": [
       "[{'item_brand': 'Riceland',\n",
       "  'item_id': 1,\n",
       "  'item_name': 'Riceland American Jazmine Rice',\n",
       "  'item_price': 0.84,\n",
       "  'item_upc12': '35200264013',\n",
       "  'item_upc14': '35200264013'},\n",
       " {'item_brand': 'Caress',\n",
       "  'item_id': 2,\n",
       "  'item_name': 'Caress Velvet Bliss Ultra Silkening Beauty Bar - 6 Ct',\n",
       "  'item_price': 6.44,\n",
       "  'item_upc12': '11111065925',\n",
       "  'item_upc14': '11111065925'},\n",
       " {'item_brand': 'Earths Best',\n",
       "  'item_id': 3,\n",
       "  'item_name': 'Earths Best Organic Fruit Yogurt Smoothie Mixed Berry',\n",
       "  'item_price': 2.43,\n",
       "  'item_upc12': '23923330139',\n",
       "  'item_upc14': '23923330139'},\n",
       " {'item_brand': 'Boars Head',\n",
       "  'item_id': 4,\n",
       "  'item_name': 'Boars Head Sliced White American Cheese - 120 Ct',\n",
       "  'item_price': 3.14,\n",
       "  'item_upc12': '208528800007',\n",
       "  'item_upc14': '208528800007'},\n",
       " {'item_brand': 'Back To Nature',\n",
       "  'item_id': 5,\n",
       "  'item_name': 'Back To Nature Gluten Free White Cheddar Rice Thin Crackers',\n",
       "  'item_price': 2.61,\n",
       "  'item_upc12': '759283100036',\n",
       "  'item_upc14': '759283100036'},\n",
       " {'item_brand': 'Sally Hansen',\n",
       "  'item_id': 6,\n",
       "  'item_name': 'Sally Hansen Nail Color Magnetic 903 Silver Elements',\n",
       "  'item_price': 6.93,\n",
       "  'item_upc12': '74170388732',\n",
       "  'item_upc14': '74170388732'},\n",
       " {'item_brand': 'Twinings Of London',\n",
       "  'item_id': 7,\n",
       "  'item_name': 'Twinings Of London Classics Lady Grey Tea - 20 Ct',\n",
       "  'item_price': 9.64,\n",
       "  'item_upc12': '70177154004',\n",
       "  'item_upc14': '70177154004'},\n",
       " {'item_brand': 'Lea & Perrins',\n",
       "  'item_id': 8,\n",
       "  'item_name': 'Lea & Perrins Marinade In-a-bag Cracked Peppercorn',\n",
       "  'item_price': 1.68,\n",
       "  'item_upc12': '51600080015',\n",
       "  'item_upc14': '51600080015'},\n",
       " {'item_brand': 'Van De Kamps',\n",
       "  'item_id': 9,\n",
       "  'item_name': 'Van De Kamps Fillets Beer Battered - 10 Ct',\n",
       "  'item_price': 1.79,\n",
       "  'item_upc12': '19600923015',\n",
       "  'item_upc14': '19600923015'},\n",
       " {'item_brand': 'Ahold',\n",
       "  'item_id': 10,\n",
       "  'item_name': 'Ahold Cocoa Almonds',\n",
       "  'item_price': 3.17,\n",
       "  'item_upc12': '688267141676',\n",
       "  'item_upc14': '688267141676'},\n",
       " {'item_brand': 'Honest Tea',\n",
       "  'item_id': 11,\n",
       "  'item_name': 'Honest Tea Peach White Tea',\n",
       "  'item_price': 3.93,\n",
       "  'item_upc12': '657622604842',\n",
       "  'item_upc14': '657622604842'},\n",
       " {'item_brand': 'Mueller',\n",
       "  'item_id': 12,\n",
       "  'item_name': 'Mueller Sport Care Basic Support Level Medium Elastic Knee Support',\n",
       "  'item_price': 8.4,\n",
       "  'item_upc12': '74676640211',\n",
       "  'item_upc14': '74676640211'},\n",
       " {'item_brand': 'Garnier Nutritioniste',\n",
       "  'item_id': 13,\n",
       "  'item_name': 'Garnier Nutritioniste Moisture Rescue Fresh Cleansing Foam',\n",
       "  'item_price': 6.47,\n",
       "  'item_upc12': '603084234561',\n",
       "  'item_upc14': '603084234561'},\n",
       " {'item_brand': 'Pamprin',\n",
       "  'item_id': 14,\n",
       "  'item_name': 'Pamprin Maximum Strength Multi-symptom Menstrual Pain Relief',\n",
       "  'item_price': 7.54,\n",
       "  'item_upc12': '41167300121',\n",
       "  'item_upc14': '41167300121'},\n",
       " {'item_brand': 'Suave',\n",
       "  'item_id': 15,\n",
       "  'item_name': 'Suave Naturals Moisturizing Body Wash Creamy Tropical Coconut',\n",
       "  'item_price': 9.11,\n",
       "  'item_upc12': '79400847201',\n",
       "  'item_upc14': '79400847201'},\n",
       " {'item_brand': 'Burts Bees',\n",
       "  'item_id': 16,\n",
       "  'item_name': 'Burts Bees Daily Moisturizing Cream Sensitive',\n",
       "  'item_price': 5.17,\n",
       "  'item_upc12': '792850014008',\n",
       "  'item_upc14': '792850014008'},\n",
       " {'item_brand': 'Ducal',\n",
       "  'item_id': 17,\n",
       "  'item_name': 'Ducal Refried Red Beans',\n",
       "  'item_price': 1.16,\n",
       "  'item_upc12': '88313590791',\n",
       "  'item_upc14': '88313590791'},\n",
       " {'item_brand': 'Scotch',\n",
       "  'item_id': 18,\n",
       "  'item_name': 'Scotch Removable Clear Mounting Squares - 35 Ct',\n",
       "  'item_price': 4.39,\n",
       "  'item_upc12': '21200725340',\n",
       "  'item_upc14': '21200725340'},\n",
       " {'item_brand': 'Careone',\n",
       "  'item_id': 19,\n",
       "  'item_name': 'Careone Family Comb Set - 8 Ct',\n",
       "  'item_price': 0.74,\n",
       "  'item_upc12': '41520035646',\n",
       "  'item_upc14': '41520035646'},\n",
       " {'item_brand': 'Usda Produce',\n",
       "  'item_id': 20,\n",
       "  'item_name': 'Plums Black',\n",
       "  'item_price': 5.62,\n",
       "  'item_upc12': '204040000000',\n",
       "  'item_upc14': '204040000000'}]"
      ]
     },
     "execution_count": 75,
     "metadata": {},
     "output_type": "execute_result"
    }
   ],
   "source": [
    "data['payload']['items']"
   ]
  },
  {
   "cell_type": "code",
   "execution_count": 63,
   "metadata": {},
   "outputs": [],
   "source": [
    "df = pd.DataFrame(data['payload']['items'])"
   ]
  },
  {
   "cell_type": "code",
   "execution_count": 65,
   "metadata": {},
   "outputs": [
    {
     "data": {
      "text/html": [
       "<div>\n",
       "<style scoped>\n",
       "    .dataframe tbody tr th:only-of-type {\n",
       "        vertical-align: middle;\n",
       "    }\n",
       "\n",
       "    .dataframe tbody tr th {\n",
       "        vertical-align: top;\n",
       "    }\n",
       "\n",
       "    .dataframe thead th {\n",
       "        text-align: right;\n",
       "    }\n",
       "</style>\n",
       "<table border=\"1\" class=\"dataframe\">\n",
       "  <thead>\n",
       "    <tr style=\"text-align: right;\">\n",
       "      <th></th>\n",
       "      <th>item_brand</th>\n",
       "      <th>item_id</th>\n",
       "      <th>item_name</th>\n",
       "      <th>item_price</th>\n",
       "      <th>item_upc12</th>\n",
       "      <th>item_upc14</th>\n",
       "    </tr>\n",
       "  </thead>\n",
       "  <tbody>\n",
       "    <tr>\n",
       "      <th>0</th>\n",
       "      <td>Riceland</td>\n",
       "      <td>1</td>\n",
       "      <td>Riceland American Jazmine Rice</td>\n",
       "      <td>0.84</td>\n",
       "      <td>35200264013</td>\n",
       "      <td>35200264013</td>\n",
       "    </tr>\n",
       "    <tr>\n",
       "      <th>1</th>\n",
       "      <td>Caress</td>\n",
       "      <td>2</td>\n",
       "      <td>Caress Velvet Bliss Ultra Silkening Beauty Bar...</td>\n",
       "      <td>6.44</td>\n",
       "      <td>11111065925</td>\n",
       "      <td>11111065925</td>\n",
       "    </tr>\n",
       "    <tr>\n",
       "      <th>2</th>\n",
       "      <td>Earths Best</td>\n",
       "      <td>3</td>\n",
       "      <td>Earths Best Organic Fruit Yogurt Smoothie Mixe...</td>\n",
       "      <td>2.43</td>\n",
       "      <td>23923330139</td>\n",
       "      <td>23923330139</td>\n",
       "    </tr>\n",
       "    <tr>\n",
       "      <th>3</th>\n",
       "      <td>Boars Head</td>\n",
       "      <td>4</td>\n",
       "      <td>Boars Head Sliced White American Cheese - 120 Ct</td>\n",
       "      <td>3.14</td>\n",
       "      <td>208528800007</td>\n",
       "      <td>208528800007</td>\n",
       "    </tr>\n",
       "    <tr>\n",
       "      <th>4</th>\n",
       "      <td>Back To Nature</td>\n",
       "      <td>5</td>\n",
       "      <td>Back To Nature Gluten Free White Cheddar Rice ...</td>\n",
       "      <td>2.61</td>\n",
       "      <td>759283100036</td>\n",
       "      <td>759283100036</td>\n",
       "    </tr>\n",
       "  </tbody>\n",
       "</table>\n",
       "</div>"
      ],
      "text/plain": [
       "       item_brand  item_id                                          item_name  \\\n",
       "0        Riceland        1                     Riceland American Jazmine Rice   \n",
       "1          Caress        2  Caress Velvet Bliss Ultra Silkening Beauty Bar...   \n",
       "2     Earths Best        3  Earths Best Organic Fruit Yogurt Smoothie Mixe...   \n",
       "3      Boars Head        4   Boars Head Sliced White American Cheese - 120 Ct   \n",
       "4  Back To Nature        5  Back To Nature Gluten Free White Cheddar Rice ...   \n",
       "\n",
       "   item_price    item_upc12    item_upc14  \n",
       "0        0.84   35200264013   35200264013  \n",
       "1        6.44   11111065925   11111065925  \n",
       "2        2.43   23923330139   23923330139  \n",
       "3        3.14  208528800007  208528800007  \n",
       "4        2.61  759283100036  759283100036  "
      ]
     },
     "execution_count": 65,
     "metadata": {},
     "output_type": "execute_result"
    }
   ],
   "source": [
    "df.head()"
   ]
  },
  {
   "cell_type": "code",
   "execution_count": 80,
   "metadata": {},
   "outputs": [
    {
     "data": {
      "text/plain": [
       "'/api/v1/items?page=2'"
      ]
     },
     "execution_count": 80,
     "metadata": {},
     "output_type": "execute_result"
    }
   ],
   "source": [
    "# data from next page\n",
    "data['payload']['next_page']"
   ]
  },
  {
   "cell_type": "code",
   "execution_count": 101,
   "metadata": {},
   "outputs": [],
   "source": [
    "response = requests.get(base_url + data['payload']['next_page'])\n",
    "data = response.json()"
   ]
  },
  {
   "cell_type": "code",
   "execution_count": 102,
   "metadata": {},
   "outputs": [
    {
     "data": {
      "text/plain": [
       "{'items': [{'item_brand': 'Doctors Best',\n",
       "   'item_id': 21,\n",
       "   'item_name': 'Doctors Best Best Curcumin C3 Complex 1000mg Tablets - 120 Ct',\n",
       "   'item_price': 8.09,\n",
       "   'item_upc12': '753950001954',\n",
       "   'item_upc14': '753950001954'},\n",
       "  {'item_brand': 'Betty Crocker',\n",
       "   'item_id': 22,\n",
       "   'item_name': 'Betty Crocker Twin Pack Real Potatoes Scalloped 2 Pouches For 2 Meals - 2 Pk',\n",
       "   'item_price': 7.31,\n",
       "   'item_upc12': '16000288829',\n",
       "   'item_upc14': '16000288829'},\n",
       "  {'item_brand': 'Reese',\n",
       "   'item_id': 23,\n",
       "   'item_name': 'Reese Mandarin Oranges Segments In Light Syrup',\n",
       "   'item_price': 1.78,\n",
       "   'item_upc12': '70670009658',\n",
       "   'item_upc14': '70670009658'},\n",
       "  {'item_brand': 'Smart Living',\n",
       "   'item_id': 24,\n",
       "   'item_name': 'Smart Living Charcoal Lighter Fluid',\n",
       "   'item_price': 5.34,\n",
       "   'item_upc12': '688267084225',\n",
       "   'item_upc14': '688267084225'},\n",
       "  {'item_brand': 'Hood',\n",
       "   'item_id': 25,\n",
       "   'item_name': 'Hood Latte Iced Coffee Drink Vanilla Latte',\n",
       "   'item_price': 2.43,\n",
       "   'item_upc12': '44100117428',\n",
       "   'item_upc14': '44100117428'},\n",
       "  {'item_brand': 'Triaminic',\n",
       "   'item_id': 26,\n",
       "   'item_name': 'Triaminic Syrup Night Time Cold & Cough Grape 4oz',\n",
       "   'item_price': 0.98,\n",
       "   'item_upc12': '300436344045',\n",
       "   'item_upc14': '300436344045'},\n",
       "  {'item_brand': 'Morton',\n",
       "   'item_id': 27,\n",
       "   'item_name': 'Morton Kosher Salt Coarse',\n",
       "   'item_price': 6.01,\n",
       "   'item_upc12': '24600017008',\n",
       "   'item_upc14': '24600017008'},\n",
       "  {'item_brand': 'Usda Produce',\n",
       "   'item_id': 28,\n",
       "   'item_name': 'Guava',\n",
       "   'item_price': 7.52,\n",
       "   'item_upc12': '719175900007',\n",
       "   'item_upc14': '719175900007'},\n",
       "  {'item_brand': 'Heinz',\n",
       "   'item_id': 29,\n",
       "   'item_name': 'Heinz Tomato Ketchup - 2 Ct',\n",
       "   'item_price': 8.65,\n",
       "   'item_upc12': '13000001038',\n",
       "   'item_upc14': '13000001038'},\n",
       "  {'item_brand': 'Petmate',\n",
       "   'item_id': 30,\n",
       "   'item_name': 'Petmate Booda Bones Steak Bacon & Chicken Flavors - 9 Ct',\n",
       "   'item_price': 8.39,\n",
       "   'item_upc12': '723503568678',\n",
       "   'item_upc14': '723503568678'},\n",
       "  {'item_brand': 'Zhenas Gypsy Tea',\n",
       "   'item_id': 31,\n",
       "   'item_name': 'Zhenas Gypsy Tea Herbal Red Tea Sachets Fire Light Chai - 22 Ct',\n",
       "   'item_price': 4.21,\n",
       "   'item_upc12': '652790100226',\n",
       "   'item_upc14': '652790100226'},\n",
       "  {'item_brand': 'Barefoot',\n",
       "   'item_id': 32,\n",
       "   'item_name': 'Barefoot Pinot Grigio  187',\n",
       "   'item_price': 0.68,\n",
       "   'item_upc12': '8500004528',\n",
       "   'item_upc14': '8500004528'},\n",
       "  {'item_brand': 'The First Years',\n",
       "   'item_id': 33,\n",
       "   'item_name': 'Tomy The First Years Gumdrop Orthodontic Pacifiers 6m+ - 2ct',\n",
       "   'item_price': 6.52,\n",
       "   'item_upc12': '71463060078',\n",
       "   'item_upc14': '71463060078'},\n",
       "  {'item_brand': 'Halls',\n",
       "   'item_id': 34,\n",
       "   'item_name': 'Halls Menthol Cough Suppresant/oral Anesthetic Drops Honey-lemon - 30 Ct',\n",
       "   'item_price': 4.17,\n",
       "   'item_upc12': '312546628694',\n",
       "   'item_upc14': '312546628694'},\n",
       "  {'item_brand': 'Natures Way',\n",
       "   'item_id': 35,\n",
       "   'item_name': 'Natures Way Forskohlii - 60 Ct',\n",
       "   'item_price': 5.19,\n",
       "   'item_upc12': '33674100066',\n",
       "   'item_upc14': '33674100066'},\n",
       "  {'item_brand': 'Deerfields Gluten Free',\n",
       "   'item_id': 36,\n",
       "   'item_name': 'Rice Bran Gluten Free Dinner Rolls Plain',\n",
       "   'item_price': 7.95,\n",
       "   'item_upc12': '610358991525',\n",
       "   'item_upc14': '610358991525'},\n",
       "  {'item_brand': 'Nakano',\n",
       "   'item_id': 37,\n",
       "   'item_name': 'Nakano Seasoned Rice Vinegar Original',\n",
       "   'item_price': 9.59,\n",
       "   'item_upc12': '73575295003',\n",
       "   'item_upc14': '73575295003'},\n",
       "  {'item_brand': 'Sundown Naturals',\n",
       "   'item_id': 38,\n",
       "   'item_name': 'Sundown Naturals Essential Electrolytes Tropical Punch Watermelon And Fruit Punch Gummies - 60 Ct',\n",
       "   'item_price': 3.45,\n",
       "   'item_upc12': '30768540548',\n",
       "   'item_upc14': '30768540548'},\n",
       "  {'item_brand': 'Munchies',\n",
       "   'item_id': 39,\n",
       "   'item_name': 'Munchies Sandwich Crackers Cheddar Cheese On Golden Toast Crackers - 8 Pk',\n",
       "   'item_price': 9.02,\n",
       "   'item_upc12': '28400029254',\n",
       "   'item_upc14': '28400029254'},\n",
       "  {'item_brand': 'Amys',\n",
       "   'item_id': 40,\n",
       "   'item_name': 'Amys Light & Lean Spaghetti Italiano',\n",
       "   'item_price': 0.6,\n",
       "   'item_upc12': '42272008063',\n",
       "   'item_upc14': '42272008063'}],\n",
       " 'max_page': 3,\n",
       " 'next_page': '/api/v1/items?page=3',\n",
       " 'page': 2,\n",
       " 'previous_page': '/api/v1/items?page=1'}"
      ]
     },
     "execution_count": 102,
     "metadata": {},
     "output_type": "execute_result"
    }
   ],
   "source": [
    "response.json()['payload']"
   ]
  },
  {
   "cell_type": "code",
   "execution_count": 89,
   "metadata": {},
   "outputs": [],
   "source": [
    "df = pd.concat([df, pd.DataFrame(response.json()['payload']['items'])]).reset_index()"
   ]
  },
  {
   "cell_type": "code",
   "execution_count": 103,
   "metadata": {},
   "outputs": [
    {
     "data": {
      "text/plain": [
       "'/api/v1/items?page=3'"
      ]
     },
     "execution_count": 103,
     "metadata": {},
     "output_type": "execute_result"
    }
   ],
   "source": [
    "data['payload']['next_page']"
   ]
  },
  {
   "cell_type": "code",
   "execution_count": 104,
   "metadata": {},
   "outputs": [
    {
     "name": "stdout",
     "output_type": "stream",
     "text": [
      "max_page: 3\n",
      "next_page: /api/v1/items?page=3\n"
     ]
    }
   ],
   "source": [
    "print('max_page: %s' % data['payload']['max_page'])\n",
    "print('next_page: %s' % data['payload']['next_page'])"
   ]
  },
  {
   "cell_type": "code",
   "execution_count": 105,
   "metadata": {},
   "outputs": [],
   "source": [
    "response = requests.get(base_url + data['payload']['next_page'])\n",
    "data = response.json()"
   ]
  },
  {
   "cell_type": "code",
   "execution_count": 111,
   "metadata": {},
   "outputs": [
    {
     "name": "stderr",
     "output_type": "stream",
     "text": [
      "/usr/local/anaconda3/lib/python3.7/site-packages/ipykernel_launcher.py:1: FutureWarning: Sorting because non-concatenation axis is not aligned. A future version\n",
      "of pandas will change to not sort by default.\n",
      "\n",
      "To accept the future behavior, pass 'sort=False'.\n",
      "\n",
      "To retain the current behavior and silence the warning, pass 'sort=True'.\n",
      "\n",
      "  \"\"\"Entry point for launching an IPython kernel.\n"
     ]
    }
   ],
   "source": [
    "df = pd.concat([df, pd.DataFrame(data['payload']['items'])]).reset_index()"
   ]
  },
  {
   "cell_type": "code",
   "execution_count": 114,
   "metadata": {},
   "outputs": [
    {
     "data": {
      "text/plain": [
       "(50, 8)"
      ]
     },
     "execution_count": 114,
     "metadata": {},
     "output_type": "execute_result"
    }
   ],
   "source": [
    "df.shape"
   ]
  },
  {
   "cell_type": "code",
   "execution_count": null,
   "metadata": {},
   "outputs": [],
   "source": []
  }
 ],
 "metadata": {
  "kernelspec": {
   "display_name": "Python 3",
   "language": "python",
   "name": "python3"
  },
  "language_info": {
   "codemirror_mode": {
    "name": "ipython",
    "version": 3
   },
   "file_extension": ".py",
   "mimetype": "text/x-python",
   "name": "python",
   "nbconvert_exporter": "python",
   "pygments_lexer": "ipython3",
   "version": "3.7.4"
  }
 },
 "nbformat": 4,
 "nbformat_minor": 2
}
