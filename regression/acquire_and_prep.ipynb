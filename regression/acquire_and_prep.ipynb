{
 "cells": [
  {
   "cell_type": "code",
   "execution_count": 34,
   "metadata": {},
   "outputs": [],
   "source": [
    "import pandas as pd\n",
    "import numpy as np\n",
    "import env\n",
    "import wrangle\n",
    "import matplotlib.pyplot as plt"
   ]
  },
  {
   "cell_type": "code",
   "execution_count": 11,
   "metadata": {},
   "outputs": [],
   "source": [
    "customers = pd.read_sql(\"SELECT customer_id, monthly_charges, tenure, total_charges FROM customers WHERE contract_type_id = 2\", env.get_db_url('telco_churn'))\n"
   ]
  },
  {
   "cell_type": "code",
   "execution_count": 12,
   "metadata": {},
   "outputs": [
    {
     "data": {
      "text/html": [
       "<div>\n",
       "<style scoped>\n",
       "    .dataframe tbody tr th:only-of-type {\n",
       "        vertical-align: middle;\n",
       "    }\n",
       "\n",
       "    .dataframe tbody tr th {\n",
       "        vertical-align: top;\n",
       "    }\n",
       "\n",
       "    .dataframe thead th {\n",
       "        text-align: right;\n",
       "    }\n",
       "</style>\n",
       "<table border=\"1\" class=\"dataframe\">\n",
       "  <thead>\n",
       "    <tr style=\"text-align: right;\">\n",
       "      <th></th>\n",
       "      <th>customer_id</th>\n",
       "      <th>monthly_charges</th>\n",
       "      <th>tenure</th>\n",
       "      <th>total_charges</th>\n",
       "    </tr>\n",
       "  </thead>\n",
       "  <tbody>\n",
       "    <tr>\n",
       "      <td>0</td>\n",
       "      <td>0002-ORFBO</td>\n",
       "      <td>65.60</td>\n",
       "      <td>9</td>\n",
       "      <td>593.3</td>\n",
       "    </tr>\n",
       "    <tr>\n",
       "      <td>1</td>\n",
       "      <td>0020-JDNXP</td>\n",
       "      <td>61.25</td>\n",
       "      <td>34</td>\n",
       "      <td>1993.2</td>\n",
       "    </tr>\n",
       "    <tr>\n",
       "      <td>2</td>\n",
       "      <td>0022-TCJCI</td>\n",
       "      <td>62.70</td>\n",
       "      <td>45</td>\n",
       "      <td>2791.5</td>\n",
       "    </tr>\n",
       "    <tr>\n",
       "      <td>3</td>\n",
       "      <td>0023-UYUPN</td>\n",
       "      <td>25.20</td>\n",
       "      <td>50</td>\n",
       "      <td>1306.3</td>\n",
       "    </tr>\n",
       "    <tr>\n",
       "      <td>4</td>\n",
       "      <td>0036-IHMOT</td>\n",
       "      <td>103.70</td>\n",
       "      <td>55</td>\n",
       "      <td>5656.75</td>\n",
       "    </tr>\n",
       "  </tbody>\n",
       "</table>\n",
       "</div>"
      ],
      "text/plain": [
       "  customer_id  monthly_charges  tenure total_charges\n",
       "0  0002-ORFBO            65.60       9         593.3\n",
       "1  0020-JDNXP            61.25      34        1993.2\n",
       "2  0022-TCJCI            62.70      45        2791.5\n",
       "3  0023-UYUPN            25.20      50        1306.3\n",
       "4  0036-IHMOT           103.70      55       5656.75"
      ]
     },
     "execution_count": 12,
     "metadata": {},
     "output_type": "execute_result"
    }
   ],
   "source": [
    "customers.head()"
   ]
  },
  {
   "cell_type": "code",
   "execution_count": 14,
   "metadata": {},
   "outputs": [
    {
     "data": {
      "text/html": [
       "<div>\n",
       "<style scoped>\n",
       "    .dataframe tbody tr th:only-of-type {\n",
       "        vertical-align: middle;\n",
       "    }\n",
       "\n",
       "    .dataframe tbody tr th {\n",
       "        vertical-align: top;\n",
       "    }\n",
       "\n",
       "    .dataframe thead th {\n",
       "        text-align: right;\n",
       "    }\n",
       "</style>\n",
       "<table border=\"1\" class=\"dataframe\">\n",
       "  <thead>\n",
       "    <tr style=\"text-align: right;\">\n",
       "      <th></th>\n",
       "      <th>customer_id</th>\n",
       "      <th>monthly_charges</th>\n",
       "      <th>tenure</th>\n",
       "      <th>total_charges</th>\n",
       "    </tr>\n",
       "  </thead>\n",
       "  <tbody>\n",
       "    <tr>\n",
       "      <td>1468</td>\n",
       "      <td>9968-FFVVH</td>\n",
       "      <td>68.80</td>\n",
       "      <td>63</td>\n",
       "      <td>4111.35</td>\n",
       "    </tr>\n",
       "    <tr>\n",
       "      <td>1469</td>\n",
       "      <td>9972-VAFJJ</td>\n",
       "      <td>94.00</td>\n",
       "      <td>53</td>\n",
       "      <td>4871.45</td>\n",
       "    </tr>\n",
       "    <tr>\n",
       "      <td>1470</td>\n",
       "      <td>9978-HYCIN</td>\n",
       "      <td>84.95</td>\n",
       "      <td>47</td>\n",
       "      <td>4018.05</td>\n",
       "    </tr>\n",
       "    <tr>\n",
       "      <td>1471</td>\n",
       "      <td>9979-RGMZT</td>\n",
       "      <td>94.05</td>\n",
       "      <td>7</td>\n",
       "      <td>633.45</td>\n",
       "    </tr>\n",
       "    <tr>\n",
       "      <td>1472</td>\n",
       "      <td>9987-LUTYD</td>\n",
       "      <td>55.15</td>\n",
       "      <td>13</td>\n",
       "      <td>742.9</td>\n",
       "    </tr>\n",
       "  </tbody>\n",
       "</table>\n",
       "</div>"
      ],
      "text/plain": [
       "     customer_id  monthly_charges  tenure total_charges\n",
       "1468  9968-FFVVH            68.80      63       4111.35\n",
       "1469  9972-VAFJJ            94.00      53       4871.45\n",
       "1470  9978-HYCIN            84.95      47       4018.05\n",
       "1471  9979-RGMZT            94.05       7        633.45\n",
       "1472  9987-LUTYD            55.15      13         742.9"
      ]
     },
     "execution_count": 14,
     "metadata": {},
     "output_type": "execute_result"
    }
   ],
   "source": [
    "customers.tail()"
   ]
  },
  {
   "cell_type": "code",
   "execution_count": 15,
   "metadata": {},
   "outputs": [
    {
     "data": {
      "text/html": [
       "<div>\n",
       "<style scoped>\n",
       "    .dataframe tbody tr th:only-of-type {\n",
       "        vertical-align: middle;\n",
       "    }\n",
       "\n",
       "    .dataframe tbody tr th {\n",
       "        vertical-align: top;\n",
       "    }\n",
       "\n",
       "    .dataframe thead th {\n",
       "        text-align: right;\n",
       "    }\n",
       "</style>\n",
       "<table border=\"1\" class=\"dataframe\">\n",
       "  <thead>\n",
       "    <tr style=\"text-align: right;\">\n",
       "      <th></th>\n",
       "      <th>monthly_charges</th>\n",
       "      <th>tenure</th>\n",
       "    </tr>\n",
       "  </thead>\n",
       "  <tbody>\n",
       "    <tr>\n",
       "      <td>count</td>\n",
       "      <td>1473.000000</td>\n",
       "      <td>1473.000000</td>\n",
       "    </tr>\n",
       "    <tr>\n",
       "      <td>mean</td>\n",
       "      <td>65.048608</td>\n",
       "      <td>42.044807</td>\n",
       "    </tr>\n",
       "    <tr>\n",
       "      <td>std</td>\n",
       "      <td>31.840539</td>\n",
       "      <td>19.035883</td>\n",
       "    </tr>\n",
       "    <tr>\n",
       "      <td>min</td>\n",
       "      <td>18.250000</td>\n",
       "      <td>0.000000</td>\n",
       "    </tr>\n",
       "    <tr>\n",
       "      <td>25%</td>\n",
       "      <td>26.900000</td>\n",
       "      <td>27.000000</td>\n",
       "    </tr>\n",
       "    <tr>\n",
       "      <td>50%</td>\n",
       "      <td>68.750000</td>\n",
       "      <td>44.000000</td>\n",
       "    </tr>\n",
       "    <tr>\n",
       "      <td>75%</td>\n",
       "      <td>94.800000</td>\n",
       "      <td>58.000000</td>\n",
       "    </tr>\n",
       "    <tr>\n",
       "      <td>max</td>\n",
       "      <td>118.600000</td>\n",
       "      <td>72.000000</td>\n",
       "    </tr>\n",
       "  </tbody>\n",
       "</table>\n",
       "</div>"
      ],
      "text/plain": [
       "       monthly_charges       tenure\n",
       "count      1473.000000  1473.000000\n",
       "mean         65.048608    42.044807\n",
       "std          31.840539    19.035883\n",
       "min          18.250000     0.000000\n",
       "25%          26.900000    27.000000\n",
       "50%          68.750000    44.000000\n",
       "75%          94.800000    58.000000\n",
       "max         118.600000    72.000000"
      ]
     },
     "execution_count": 15,
     "metadata": {},
     "output_type": "execute_result"
    }
   ],
   "source": [
    "customers.describe()"
   ]
  },
  {
   "cell_type": "code",
   "execution_count": 16,
   "metadata": {},
   "outputs": [
    {
     "name": "stdout",
     "output_type": "stream",
     "text": [
      "<class 'pandas.core.frame.DataFrame'>\n",
      "RangeIndex: 1473 entries, 0 to 1472\n",
      "Data columns (total 4 columns):\n",
      "customer_id        1473 non-null object\n",
      "monthly_charges    1473 non-null float64\n",
      "tenure             1473 non-null int64\n",
      "total_charges      1473 non-null object\n",
      "dtypes: float64(1), int64(1), object(2)\n",
      "memory usage: 46.2+ KB\n"
     ]
    }
   ],
   "source": [
    "customers.info()"
   ]
  },
  {
   "cell_type": "code",
   "execution_count": 18,
   "metadata": {},
   "outputs": [
    {
     "data": {
      "text/plain": [
       "(1473, 4)"
      ]
     },
     "execution_count": 18,
     "metadata": {},
     "output_type": "execute_result"
    }
   ],
   "source": [
    "customers.shape"
   ]
  },
  {
   "cell_type": "code",
   "execution_count": 20,
   "metadata": {},
   "outputs": [
    {
     "data": {
      "text/html": [
       "<div>\n",
       "<style scoped>\n",
       "    .dataframe tbody tr th:only-of-type {\n",
       "        vertical-align: middle;\n",
       "    }\n",
       "\n",
       "    .dataframe tbody tr th {\n",
       "        vertical-align: top;\n",
       "    }\n",
       "\n",
       "    .dataframe thead th {\n",
       "        text-align: right;\n",
       "    }\n",
       "</style>\n",
       "<table border=\"1\" class=\"dataframe\">\n",
       "  <thead>\n",
       "    <tr style=\"text-align: right;\">\n",
       "      <th></th>\n",
       "      <th>customer_id</th>\n",
       "      <th>monthly_charges</th>\n",
       "      <th>tenure</th>\n",
       "      <th>total_charges</th>\n",
       "    </tr>\n",
       "  </thead>\n",
       "  <tbody>\n",
       "    <tr>\n",
       "      <td>432</td>\n",
       "      <td>2923-ARZLG</td>\n",
       "      <td>19.70</td>\n",
       "      <td>0</td>\n",
       "      <td></td>\n",
       "    </tr>\n",
       "    <tr>\n",
       "      <td>1047</td>\n",
       "      <td>7009-PCARS</td>\n",
       "      <td>19.10</td>\n",
       "      <td>55</td>\n",
       "      <td>1001.5</td>\n",
       "    </tr>\n",
       "    <tr>\n",
       "      <td>1305</td>\n",
       "      <td>8859-YSTWS</td>\n",
       "      <td>19.95</td>\n",
       "      <td>48</td>\n",
       "      <td>1004.5</td>\n",
       "    </tr>\n",
       "    <tr>\n",
       "      <td>598</td>\n",
       "      <td>4163-HFTUK</td>\n",
       "      <td>19.10</td>\n",
       "      <td>51</td>\n",
       "      <td>1007.8</td>\n",
       "    </tr>\n",
       "    <tr>\n",
       "      <td>1170</td>\n",
       "      <td>7872-BAAZR</td>\n",
       "      <td>19.55</td>\n",
       "      <td>53</td>\n",
       "      <td>1007.9</td>\n",
       "    </tr>\n",
       "    <tr>\n",
       "      <td>...</td>\n",
       "      <td>...</td>\n",
       "      <td>...</td>\n",
       "      <td>...</td>\n",
       "      <td>...</td>\n",
       "    </tr>\n",
       "    <tr>\n",
       "      <td>1389</td>\n",
       "      <td>9451-WLYRI</td>\n",
       "      <td>19.05</td>\n",
       "      <td>53</td>\n",
       "      <td>990.45</td>\n",
       "    </tr>\n",
       "    <tr>\n",
       "      <td>111</td>\n",
       "      <td>0804-YGEQV</td>\n",
       "      <td>24.45</td>\n",
       "      <td>43</td>\n",
       "      <td>993.15</td>\n",
       "    </tr>\n",
       "    <tr>\n",
       "      <td>1095</td>\n",
       "      <td>7297-DVYGA</td>\n",
       "      <td>19.85</td>\n",
       "      <td>51</td>\n",
       "      <td>996.95</td>\n",
       "    </tr>\n",
       "    <tr>\n",
       "      <td>1222</td>\n",
       "      <td>8249-THVEC</td>\n",
       "      <td>19.40</td>\n",
       "      <td>51</td>\n",
       "      <td>997.75</td>\n",
       "    </tr>\n",
       "    <tr>\n",
       "      <td>892</td>\n",
       "      <td>6051-PTVNS</td>\n",
       "      <td>19.15</td>\n",
       "      <td>55</td>\n",
       "      <td>998.1</td>\n",
       "    </tr>\n",
       "  </tbody>\n",
       "</table>\n",
       "<p>1473 rows × 4 columns</p>\n",
       "</div>"
      ],
      "text/plain": [
       "     customer_id  monthly_charges  tenure total_charges\n",
       "432   2923-ARZLG            19.70       0              \n",
       "1047  7009-PCARS            19.10      55        1001.5\n",
       "1305  8859-YSTWS            19.95      48        1004.5\n",
       "598   4163-HFTUK            19.10      51        1007.8\n",
       "1170  7872-BAAZR            19.55      53        1007.9\n",
       "...          ...              ...     ...           ...\n",
       "1389  9451-WLYRI            19.05      53        990.45\n",
       "111   0804-YGEQV            24.45      43        993.15\n",
       "1095  7297-DVYGA            19.85      51        996.95\n",
       "1222  8249-THVEC            19.40      51        997.75\n",
       "892   6051-PTVNS            19.15      55         998.1\n",
       "\n",
       "[1473 rows x 4 columns]"
      ]
     },
     "execution_count": 20,
     "metadata": {},
     "output_type": "execute_result"
    }
   ],
   "source": [
    "customers.sort_values(by=\"total_charges\")"
   ]
  },
  {
   "cell_type": "code",
   "execution_count": 22,
   "metadata": {},
   "outputs": [
    {
     "name": "stdout",
     "output_type": "stream",
     "text": [
      "customer_id        0\n",
      "monthly_charges    0\n",
      "tenure             0\n",
      "total_charges      0\n",
      "dtype: int64\n"
     ]
    }
   ],
   "source": [
    "print(customers.isnull().sum())"
   ]
  },
  {
   "cell_type": "code",
   "execution_count": 24,
   "metadata": {},
   "outputs": [],
   "source": [
    "customers.replace(r'^\\s*$', np.nan, regex=True, inplace=True)"
   ]
  },
  {
   "cell_type": "code",
   "execution_count": 25,
   "metadata": {},
   "outputs": [
    {
     "name": "stdout",
     "output_type": "stream",
     "text": [
      "<class 'pandas.core.frame.DataFrame'>\n",
      "RangeIndex: 1473 entries, 0 to 1472\n",
      "Data columns (total 4 columns):\n",
      "customer_id        1473 non-null object\n",
      "monthly_charges    1473 non-null float64\n",
      "tenure             1473 non-null int64\n",
      "total_charges      1472 non-null object\n",
      "dtypes: float64(1), int64(1), object(2)\n",
      "memory usage: 46.2+ KB\n"
     ]
    }
   ],
   "source": [
    "customers.info()"
   ]
  },
  {
   "cell_type": "code",
   "execution_count": 28,
   "metadata": {},
   "outputs": [],
   "source": [
    "customers = customers.dropna()"
   ]
  },
  {
   "cell_type": "code",
   "execution_count": 29,
   "metadata": {},
   "outputs": [],
   "source": [
    "customers['total_charges'] = customers.total_charges.astype('float') "
   ]
  },
  {
   "cell_type": "code",
   "execution_count": 31,
   "metadata": {},
   "outputs": [
    {
     "data": {
      "text/html": [
       "<div>\n",
       "<style scoped>\n",
       "    .dataframe tbody tr th:only-of-type {\n",
       "        vertical-align: middle;\n",
       "    }\n",
       "\n",
       "    .dataframe tbody tr th {\n",
       "        vertical-align: top;\n",
       "    }\n",
       "\n",
       "    .dataframe thead th {\n",
       "        text-align: right;\n",
       "    }\n",
       "</style>\n",
       "<table border=\"1\" class=\"dataframe\">\n",
       "  <thead>\n",
       "    <tr style=\"text-align: right;\">\n",
       "      <th></th>\n",
       "      <th>monthly_charges</th>\n",
       "      <th>tenure</th>\n",
       "      <th>total_charges</th>\n",
       "    </tr>\n",
       "  </thead>\n",
       "  <tbody>\n",
       "    <tr>\n",
       "      <td>count</td>\n",
       "      <td>1472.000000</td>\n",
       "      <td>1472.00000</td>\n",
       "      <td>1472.000000</td>\n",
       "    </tr>\n",
       "    <tr>\n",
       "      <td>mean</td>\n",
       "      <td>65.079416</td>\n",
       "      <td>42.07337</td>\n",
       "      <td>3034.683084</td>\n",
       "    </tr>\n",
       "    <tr>\n",
       "      <td>std</td>\n",
       "      <td>31.829391</td>\n",
       "      <td>19.01075</td>\n",
       "      <td>2229.730075</td>\n",
       "    </tr>\n",
       "    <tr>\n",
       "      <td>min</td>\n",
       "      <td>18.250000</td>\n",
       "      <td>1.00000</td>\n",
       "      <td>18.800000</td>\n",
       "    </tr>\n",
       "    <tr>\n",
       "      <td>25%</td>\n",
       "      <td>28.812500</td>\n",
       "      <td>27.00000</td>\n",
       "      <td>989.350000</td>\n",
       "    </tr>\n",
       "    <tr>\n",
       "      <td>50%</td>\n",
       "      <td>68.750000</td>\n",
       "      <td>44.00000</td>\n",
       "      <td>2657.550000</td>\n",
       "    </tr>\n",
       "    <tr>\n",
       "      <td>75%</td>\n",
       "      <td>94.812500</td>\n",
       "      <td>58.00000</td>\n",
       "      <td>4859.525000</td>\n",
       "    </tr>\n",
       "    <tr>\n",
       "      <td>max</td>\n",
       "      <td>118.600000</td>\n",
       "      <td>72.00000</td>\n",
       "      <td>8684.800000</td>\n",
       "    </tr>\n",
       "  </tbody>\n",
       "</table>\n",
       "</div>"
      ],
      "text/plain": [
       "       monthly_charges      tenure  total_charges\n",
       "count      1472.000000  1472.00000    1472.000000\n",
       "mean         65.079416    42.07337    3034.683084\n",
       "std          31.829391    19.01075    2229.730075\n",
       "min          18.250000     1.00000      18.800000\n",
       "25%          28.812500    27.00000     989.350000\n",
       "50%          68.750000    44.00000    2657.550000\n",
       "75%          94.812500    58.00000    4859.525000\n",
       "max         118.600000    72.00000    8684.800000"
      ]
     },
     "execution_count": 31,
     "metadata": {},
     "output_type": "execute_result"
    }
   ],
   "source": [
    "customers.describe()"
   ]
  },
  {
   "cell_type": "code",
   "execution_count": 35,
   "metadata": {},
   "outputs": [
    {
     "data": {
      "image/png": "[encoded data removed]",
      "text/plain": [
       "<Figure size 1152x216 with 3 Axes>"
      ]
     },
     "metadata": {
      "needs_background": "light"
     },
     "output_type": "display_data"
    }
   ],
   "source": [
    "plt.figure(figsize=(16, 3))\n",
    "\n",
    "for i, col in enumerate(['monthly_charges', 'tenure', 'total_charges']):  \n",
    "    plot_number = i + 1 # i starts at 0, but plot nos should start at 1\n",
    "    series = customers[col]  \n",
    "    plt.subplot(1,4, plot_number)\n",
    "    plt.title(col)\n",
    "    series.hist(bins=5)"
   ]
  },
  {
   "cell_type": "code",
   "execution_count": 10,
   "metadata": {},
   "outputs": [
    {
     "data": {
      "text/html": [
       "<div>\n",
       "<style scoped>\n",
       "    .dataframe tbody tr th:only-of-type {\n",
       "        vertical-align: middle;\n",
       "    }\n",
       "\n",
       "    .dataframe tbody tr th {\n",
       "        vertical-align: top;\n",
       "    }\n",
       "\n",
       "    .dataframe thead th {\n",
       "        text-align: right;\n",
       "    }\n",
       "</style>\n",
       "<table border=\"1\" class=\"dataframe\">\n",
       "  <thead>\n",
       "    <tr style=\"text-align: right;\">\n",
       "      <th></th>\n",
       "      <th>customer_id</th>\n",
       "      <th>monthly_charges</th>\n",
       "      <th>tenure</th>\n",
       "      <th>total_charges</th>\n",
       "    </tr>\n",
       "  </thead>\n",
       "  <tbody>\n",
       "    <tr>\n",
       "      <td>0</td>\n",
       "      <td>0002-ORFBO</td>\n",
       "      <td>65.60</td>\n",
       "      <td>9</td>\n",
       "      <td>593.30</td>\n",
       "    </tr>\n",
       "    <tr>\n",
       "      <td>1</td>\n",
       "      <td>0020-JDNXP</td>\n",
       "      <td>61.25</td>\n",
       "      <td>34</td>\n",
       "      <td>1993.20</td>\n",
       "    </tr>\n",
       "    <tr>\n",
       "      <td>2</td>\n",
       "      <td>0022-TCJCI</td>\n",
       "      <td>62.70</td>\n",
       "      <td>45</td>\n",
       "      <td>2791.50</td>\n",
       "    </tr>\n",
       "    <tr>\n",
       "      <td>3</td>\n",
       "      <td>0023-UYUPN</td>\n",
       "      <td>25.20</td>\n",
       "      <td>50</td>\n",
       "      <td>1306.30</td>\n",
       "    </tr>\n",
       "    <tr>\n",
       "      <td>4</td>\n",
       "      <td>0036-IHMOT</td>\n",
       "      <td>103.70</td>\n",
       "      <td>55</td>\n",
       "      <td>5656.75</td>\n",
       "    </tr>\n",
       "    <tr>\n",
       "      <td>...</td>\n",
       "      <td>...</td>\n",
       "      <td>...</td>\n",
       "      <td>...</td>\n",
       "      <td>...</td>\n",
       "    </tr>\n",
       "    <tr>\n",
       "      <td>1468</td>\n",
       "      <td>9968-FFVVH</td>\n",
       "      <td>68.80</td>\n",
       "      <td>63</td>\n",
       "      <td>4111.35</td>\n",
       "    </tr>\n",
       "    <tr>\n",
       "      <td>1469</td>\n",
       "      <td>9972-VAFJJ</td>\n",
       "      <td>94.00</td>\n",
       "      <td>53</td>\n",
       "      <td>4871.45</td>\n",
       "    </tr>\n",
       "    <tr>\n",
       "      <td>1470</td>\n",
       "      <td>9978-HYCIN</td>\n",
       "      <td>84.95</td>\n",
       "      <td>47</td>\n",
       "      <td>4018.05</td>\n",
       "    </tr>\n",
       "    <tr>\n",
       "      <td>1471</td>\n",
       "      <td>9979-RGMZT</td>\n",
       "      <td>94.05</td>\n",
       "      <td>7</td>\n",
       "      <td>633.45</td>\n",
       "    </tr>\n",
       "    <tr>\n",
       "      <td>1472</td>\n",
       "      <td>9987-LUTYD</td>\n",
       "      <td>55.15</td>\n",
       "      <td>13</td>\n",
       "      <td>742.90</td>\n",
       "    </tr>\n",
       "  </tbody>\n",
       "</table>\n",
       "<p>1472 rows × 4 columns</p>\n",
       "</div>"
      ],
      "text/plain": [
       "     customer_id  monthly_charges  tenure  total_charges\n",
       "0     0002-ORFBO            65.60       9         593.30\n",
       "1     0020-JDNXP            61.25      34        1993.20\n",
       "2     0022-TCJCI            62.70      45        2791.50\n",
       "3     0023-UYUPN            25.20      50        1306.30\n",
       "4     0036-IHMOT           103.70      55        5656.75\n",
       "...          ...              ...     ...            ...\n",
       "1468  9968-FFVVH            68.80      63        4111.35\n",
       "1469  9972-VAFJJ            94.00      53        4871.45\n",
       "1470  9978-HYCIN            84.95      47        4018.05\n",
       "1471  9979-RGMZT            94.05       7         633.45\n",
       "1472  9987-LUTYD            55.15      13         742.90\n",
       "\n",
       "[1472 rows x 4 columns]"
      ]
     },
     "execution_count": 10,
     "metadata": {},
     "output_type": "execute_result"
    }
   ],
   "source": [
    "wrangle_telco()"
   ]
  },
  {
   "cell_type": "code",
   "execution_count": null,
   "metadata": {},
   "outputs": [],
   "source": []
  }
 ],
 "metadata": {
  "kernelspec": {
   "display_name": "Python 3",
   "language": "python",
   "name": "python3"
  },
  "language_info": {
   "codemirror_mode": {
    "name": "ipython",
    "version": 3
   },
   "file_extension": ".py",
   "mimetype": "text/x-python",
   "name": "python",
   "nbconvert_exporter": "python",
   "pygments_lexer": "ipython3",
   "version": "3.7.4"
  }
 },
 "nbformat": 4,
 "nbformat_minor": 2
}
