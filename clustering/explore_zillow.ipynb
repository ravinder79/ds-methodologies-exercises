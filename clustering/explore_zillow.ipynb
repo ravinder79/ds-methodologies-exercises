{
 "cells": [
  {
   "cell_type": "code",
   "execution_count": 1,
   "metadata": {},
   "outputs": [],
   "source": [
    "# ignore warnings\n",
    "import warnings\n",
    "warnings.filterwarnings(\"ignore\")\n",
    "\n",
    "# Wrangling\n",
    "import pandas as pd\n",
    "import numpy as np\n",
    "\n",
    "# Exploring\n",
    "import scipy.stats as stats\n",
    "\n",
    "# Visualizing\n",
    "%matplotlib inline\n",
    "import matplotlib.pyplot as plt\n",
    "import seaborn as sns\n",
    "\n",
    "# default pandas decimal number display format\n",
    "pd.options.display.float_format = '{:20,.2f}'.format\n",
    "import acquire\n",
    "import wrangle_zillow"
   ]
  },
  {
   "cell_type": "markdown",
   "metadata": {},
   "source": [
    "### Plot all continuous or numeric/ordered variables against each other in scatterplots, or through a pairplot."
   ]
  },
  {
   "cell_type": "code",
   "execution_count": 2,
   "metadata": {},
   "outputs": [],
   "source": [
    "df = acquire.get_zillow_data()"
   ]
  },
  {
   "cell_type": "code",
   "execution_count": 3,
   "metadata": {},
   "outputs": [],
   "source": [
    "df = wrangle_zillow.wrangle_zillow(df)"
   ]
  },
  {
   "cell_type": "code",
   "execution_count": 4,
   "metadata": {},
   "outputs": [
    {
     "data": {
      "text/plain": [
       "propertylandusetypeid           0\n",
       "heatingorsystemtypeid           0\n",
       "parcelid                        0\n",
       "id                              0\n",
       "logerror                        0\n",
       "transactiondate                 0\n",
       "bathroomcnt                     0\n",
       "bedroomcnt                      0\n",
       "buildingqualitytypeid           0\n",
       "calculatedfinishedsquarefeet    0\n",
       "finishedsquarefeet12            0\n",
       "fips                            0\n",
       "fullbathcnt                     0\n",
       "latitude                        0\n",
       "longitude                       0\n",
       "lotsizesquarefeet               0\n",
       "propertycountylandusecode       0\n",
       "rawcensustractandblock          0\n",
       "regionidcounty                  0\n",
       "regionidzip                     0\n",
       "roomcnt                         0\n",
       "yearbuilt                       0\n",
       "structuretaxvaluedollarcnt      0\n",
       "taxvaluedollarcnt               0\n",
       "assessmentyear                  0\n",
       "landtaxvaluedollarcnt           0\n",
       "taxamount                       0\n",
       "censustractandblock             0\n",
       "heatingorsystemdesc             0\n",
       "propertylandusedesc             0\n",
       "haversine_distance              0\n",
       "regionid_city                   0\n",
       "dtype: int64"
      ]
     },
     "execution_count": 4,
     "metadata": {},
     "output_type": "execute_result"
    }
   ],
   "source": [
    "df.isnull().sum()"
   ]
  },
  {
   "cell_type": "code",
   "execution_count": null,
   "metadata": {},
   "outputs": [],
   "source": []
  }
 ],
 "metadata": {
  "kernelspec": {
   "display_name": "Python 3",
   "language": "python",
   "name": "python3"
  },
  "language_info": {
   "codemirror_mode": {
    "name": "ipython",
    "version": 3
   },
   "file_extension": ".py",
   "mimetype": "text/x-python",
   "name": "python",
   "nbconvert_exporter": "python",
   "pygments_lexer": "ipython3",
   "version": "3.7.4"
  }
 },
 "nbformat": 4,
 "nbformat_minor": 2
}
